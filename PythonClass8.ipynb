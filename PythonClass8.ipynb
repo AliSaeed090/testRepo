{
 "cells": [
  {
   "cell_type": "markdown",
   "metadata": {},
   "source": [
    "# PythonClass8"
   ]
  },
  {
   "cell_type": "markdown",
   "metadata": {},
   "source": [
    "# inheritance"
   ]
  },
  {
   "cell_type": "code",
   "execution_count": 2,
   "metadata": {},
   "outputs": [],
   "source": [
    "#code reuseability"
   ]
  },
  {
   "cell_type": "code",
   "execution_count": 8,
   "metadata": {},
   "outputs": [],
   "source": [
    " class Car():\n",
    "    def __init__(self,make,model,year):\n",
    "        self.make=make\n",
    "        self.model=model\n",
    "        self.year=year\n",
    "    def description(self):\n",
    "        full_name=f\"The name of car is {self.make} {self.model} {self.year}\"\n",
    "        return full_name"
   ]
  },
  {
   "cell_type": "code",
   "execution_count": 18,
   "metadata": {},
   "outputs": [],
   "source": [
    "class ElectricCar(Car):\n",
    "    def __init__(self,make,model,year):\n",
    "        super().__init__(make,model,year)\n",
    "        self.batterySize =100\n",
    "    def getBatterySize(self):\n",
    "        print (f\"Battery Size is:{self.batterySize}\")\n",
    "    def setBatterySize(self, newsize):\n",
    "        self.batterySize= newsize\n"
   ]
  },
  {
   "cell_type": "code",
   "execution_count": 19,
   "metadata": {},
   "outputs": [],
   "source": [
    "eCar = ElectricCar(\"abc\", \"model\", 2019)"
   ]
  },
  {
   "cell_type": "code",
   "execution_count": 20,
   "metadata": {},
   "outputs": [
    {
     "data": {
      "text/plain": [
       "'The name of car is abc model 2019'"
      ]
     },
     "execution_count": 20,
     "metadata": {},
     "output_type": "execute_result"
    }
   ],
   "source": [
    "eCar.description()"
   ]
  },
  {
   "cell_type": "code",
   "execution_count": 21,
   "metadata": {},
   "outputs": [
    {
     "name": "stdout",
     "output_type": "stream",
     "text": [
      "Battery Size is:100\n"
     ]
    }
   ],
   "source": [
    "eCar.getBatterySize()"
   ]
  },
  {
   "cell_type": "code",
   "execution_count": 22,
   "metadata": {},
   "outputs": [],
   "source": [
    "eCar.setBatterySize(300)"
   ]
  },
  {
   "cell_type": "code",
   "execution_count": 23,
   "metadata": {},
   "outputs": [
    {
     "name": "stdout",
     "output_type": "stream",
     "text": [
      "Battery Size is:300\n"
     ]
    }
   ],
   "source": [
    "eCar.getBatterySize()"
   ]
  },
  {
   "cell_type": "code",
   "execution_count": 73,
   "metadata": {},
   "outputs": [],
   "source": [
    "class Resturant():\n",
    "    def __init__ (self, resName, cusineType):\n",
    "        self.resName = resName\n",
    "        self.cusineType=cusineType\n",
    "        self.NumerServed=0\n",
    "    def describe_restaurant(self):\n",
    "        print(f\"The Name of resturant is:{self.resName}\")\n",
    "        print(f\"The cusine Type is:{self.cusineType}\")\n",
    "    def open_resturant(self):\n",
    "        print(f\"{self.resName} is open now\")\n",
    "    def isOpen(self, time):\n",
    "        if (time>24 or time<10):\n",
    "            print(f\"{self.resName} is close now\")\n",
    "        else:\n",
    "            print(f\"{self.resName} is Open  now\")\n",
    "    def getNumerServed(self):\n",
    "        print(f\"{self.NumerServed}has been served\")\n",
    "    def setNumberServed(self, numbers):\n",
    "        self.NumerServed=numbers\n",
    "    def increatmenrServed(self, numbers):\n",
    "        self.NumerServed+=numbers\n",
    "        "
   ]
  },
  {
   "cell_type": "code",
   "execution_count": 79,
   "metadata": {},
   "outputs": [],
   "source": [
    "r1= Resturant(\"China Town\", \"Chiness\")"
   ]
  },
  {
   "cell_type": "code",
   "execution_count": 80,
   "metadata": {},
   "outputs": [
    {
     "data": {
      "text/plain": [
       "'Chiness'"
      ]
     },
     "execution_count": 80,
     "metadata": {},
     "output_type": "execute_result"
    }
   ],
   "source": [
    "r1.cusineType"
   ]
  },
  {
   "cell_type": "code",
   "execution_count": 81,
   "metadata": {},
   "outputs": [
    {
     "name": "stdout",
     "output_type": "stream",
     "text": [
      "China Town is close now\n"
     ]
    }
   ],
   "source": [
    "r1.isOpen(9)"
   ]
  },
  {
   "cell_type": "code",
   "execution_count": 82,
   "metadata": {},
   "outputs": [],
   "source": [
    "resturant=Resturant(\"KFC\",\"FastFood\")"
   ]
  },
  {
   "cell_type": "code",
   "execution_count": 83,
   "metadata": {},
   "outputs": [
    {
     "data": {
      "text/plain": [
       "100"
      ]
     },
     "execution_count": 83,
     "metadata": {},
     "output_type": "execute_result"
    }
   ],
   "source": [
    "resturant.NumerServed=100\n",
    "resturant.NumerServed"
   ]
  },
  {
   "cell_type": "raw",
   "metadata": {},
   "source": [
    "r1= Resturant(\"China Town\", \"Chiness\")\n"
   ]
  },
  {
   "cell_type": "code",
   "execution_count": 84,
   "metadata": {},
   "outputs": [
    {
     "name": "stdout",
     "output_type": "stream",
     "text": [
      "0has been served\n"
     ]
    }
   ],
   "source": [
    "r1.getNumerServed()"
   ]
  },
  {
   "cell_type": "code",
   "execution_count": 85,
   "metadata": {},
   "outputs": [],
   "source": [
    "r1.setNumberServed(4)"
   ]
  },
  {
   "cell_type": "code",
   "execution_count": 86,
   "metadata": {},
   "outputs": [
    {
     "name": "stdout",
     "output_type": "stream",
     "text": [
      "4has been served\n"
     ]
    }
   ],
   "source": [
    "r1.getNumerServed()"
   ]
  },
  {
   "cell_type": "code",
   "execution_count": 88,
   "metadata": {},
   "outputs": [],
   "source": [
    "r1.increatmenrServed(5)"
   ]
  },
  {
   "cell_type": "code",
   "execution_count": 89,
   "metadata": {},
   "outputs": [
    {
     "name": "stdout",
     "output_type": "stream",
     "text": [
      "14has been served\n"
     ]
    }
   ],
   "source": [
    "r1.getNumerServed()"
   ]
  },
  {
   "cell_type": "code",
   "execution_count": 99,
   "metadata": {},
   "outputs": [],
   "source": [
    "class IceCreamStand(Resturant):\n",
    "    def __init__(self,resName, CusineType):\n",
    "        super().__init__(resName, CusineType)\n",
    "        self.flavours=[\"vanila\", \"manogos\", \"chocolates\"]\n",
    "    def getFlavours(self):\n",
    "        print(f\"Flavours Are:\")\n",
    "        for flavour in self.flavours:\n",
    "            \n",
    "            print(flavour, end=\" \")"
   ]
  },
  {
   "cell_type": "code",
   "execution_count": 100,
   "metadata": {},
   "outputs": [],
   "source": [
    "ice1=IceCreamStand(\"Peshawri\", \"PakiIce\")"
   ]
  },
  {
   "cell_type": "code",
   "execution_count": 101,
   "metadata": {},
   "outputs": [
    {
     "name": "stdout",
     "output_type": "stream",
     "text": [
      "Peshawri\n",
      "PakiIce\n"
     ]
    }
   ],
   "source": [
    "print(ice1.resName)\n",
    "print(ice1.cusineType)"
   ]
  },
  {
   "cell_type": "code",
   "execution_count": 102,
   "metadata": {},
   "outputs": [
    {
     "name": "stdout",
     "output_type": "stream",
     "text": [
      "Flavours Are:\n",
      "vanila manogos chocolates "
     ]
    }
   ],
   "source": [
    "ice1.getFlavours()"
   ]
  },
  {
   "cell_type": "code",
   "execution_count": null,
   "metadata": {},
   "outputs": [],
   "source": []
  }
 ],
 "metadata": {
  "kernelspec": {
   "display_name": "Python 3",
   "language": "python",
   "name": "python3"
  },
  "language_info": {
   "codemirror_mode": {
    "name": "ipython",
    "version": 3
   },
   "file_extension": ".py",
   "mimetype": "text/x-python",
   "name": "python",
   "nbconvert_exporter": "python",
   "pygments_lexer": "ipython3",
   "version": "3.7.3"
  }
 },
 "nbformat": 4,
 "nbformat_minor": 2
}
