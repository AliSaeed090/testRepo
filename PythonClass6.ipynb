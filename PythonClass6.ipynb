{
 "cells": [
  {
   "cell_type": "markdown",
   "metadata": {},
   "source": [
    "# args and * kwargs\n"
   ]
  },
  {
   "cell_type": "code",
   "execution_count": 2,
   "metadata": {},
   "outputs": [],
   "source": [
    "def pizza (size, *topping):\n",
    "    print(size)\n",
    "    print(topping)"
   ]
  },
  {
   "cell_type": "code",
   "execution_count": 3,
   "metadata": {},
   "outputs": [
    {
     "name": "stdout",
     "output_type": "stream",
     "text": [
      "12\n",
      "('black papper',)\n"
     ]
    }
   ],
   "source": [
    "pizza(12,'black papper')"
   ]
  },
  {
   "cell_type": "code",
   "execution_count": 4,
   "metadata": {},
   "outputs": [],
   "source": [
    "def pizza1(size,*toppings):\n",
    "    print(f'Your size of pizza is{size}')\n",
    "    for topping in toppings:\n",
    "        print(f'you have chosn these toppings  { topping}')"
   ]
  },
  {
   "cell_type": "code",
   "execution_count": 5,
   "metadata": {},
   "outputs": [
    {
     "name": "stdout",
     "output_type": "stream",
     "text": [
      "Your size of pizza is12\n",
      "you have chosn these toppings  papper\n",
      "you have chosn these toppings  salty\n",
      "you have chosn these toppings  spicy\n"
     ]
    }
   ],
   "source": [
    "pizza1(12, \"papper\",\"salty\",\"spicy\")"
   ]
  },
  {
   "cell_type": "code",
   "execution_count": 6,
   "metadata": {},
   "outputs": [],
   "source": [
    "def order(name,price, *orders):\n",
    "    print(f'Your name is {name}')\n",
    "    print(f'You paied Rs. {price} ')\n",
    "    if price==\"paid\":\n",
    "        print(f'you order these dishes  { orders}')"
   ]
  },
  {
   "cell_type": "code",
   "execution_count": 7,
   "metadata": {},
   "outputs": [
    {
     "name": "stdout",
     "output_type": "stream",
     "text": [
      "Your name is ali\n",
      "You paied Rs. paid \n",
      "you order these dishes  ('biryani', 'dall')\n"
     ]
    }
   ],
   "source": [
    "order(\"ali\",\"paid\", \"biryani\",'dall')"
   ]
  },
  {
   "cell_type": "code",
   "execution_count": 8,
   "metadata": {},
   "outputs": [],
   "source": [
    "def profile(fname,Lname,**otherInfo):\n",
    "    print(fname)\n",
    "    print(Lname)\n",
    "    print(otherInfo)"
   ]
  },
  {
   "cell_type": "code",
   "execution_count": 9,
   "metadata": {},
   "outputs": [
    {
     "name": "stdout",
     "output_type": "stream",
     "text": [
      "ali\n",
      "saeed\n",
      "{'address': ['khi', 'lhr', 'isb'], 'no': 123456, 'sex': 'M', 'age': 24}\n"
     ]
    }
   ],
   "source": [
    "profile('ali','saeed', address=['khi','lhr','isb'],no=123456,sex=\"M\",age=24)"
   ]
  },
  {
   "cell_type": "markdown",
   "metadata": {},
   "source": [
    "# global Scope and local Scope of variables"
   ]
  },
  {
   "cell_type": "code",
   "execution_count": 10,
   "metadata": {},
   "outputs": [],
   "source": [
    "def abc():\n",
    "    name= \"ali\"\n",
    "    print(name)"
   ]
  },
  {
   "cell_type": "code",
   "execution_count": 11,
   "metadata": {},
   "outputs": [
    {
     "name": "stdout",
     "output_type": "stream",
     "text": [
      "ali\n"
     ]
    }
   ],
   "source": [
    "abc()"
   ]
  },
  {
   "cell_type": "code",
   "execution_count": 12,
   "metadata": {},
   "outputs": [],
   "source": [
    "def xyz():\n",
    "    x='apple'\n",
    "    if x=='apple':\n",
    "        y ='orange'\n",
    "        print(x)"
   ]
  },
  {
   "cell_type": "code",
   "execution_count": 13,
   "metadata": {},
   "outputs": [
    {
     "name": "stdout",
     "output_type": "stream",
     "text": [
      "apple\n"
     ]
    }
   ],
   "source": [
    "xyz()"
   ]
  },
  {
   "cell_type": "code",
   "execution_count": 14,
   "metadata": {},
   "outputs": [],
   "source": [
    "def xyz():\n",
    "    x='apple'\n",
    "    if x=='apple':\n",
    "        x ='orange'\n",
    "        print(y)"
   ]
  },
  {
   "cell_type": "code",
   "execution_count": 15,
   "metadata": {},
   "outputs": [
    {
     "ename": "NameError",
     "evalue": "name 'y' is not defined",
     "output_type": "error",
     "traceback": [
      "\u001b[1;31m---------------------------------------------------------------------------\u001b[0m",
      "\u001b[1;31mNameError\u001b[0m                                 Traceback (most recent call last)",
      "\u001b[1;32m<ipython-input-15-228a7b6e2e2b>\u001b[0m in \u001b[0;36m<module>\u001b[1;34m\u001b[0m\n\u001b[1;32m----> 1\u001b[1;33m \u001b[0mxyz\u001b[0m\u001b[1;33m(\u001b[0m\u001b[1;33m)\u001b[0m\u001b[1;33m\u001b[0m\u001b[1;33m\u001b[0m\u001b[0m\n\u001b[0m",
      "\u001b[1;32m<ipython-input-14-454d3bd49eb2>\u001b[0m in \u001b[0;36mxyz\u001b[1;34m()\u001b[0m\n\u001b[0;32m      3\u001b[0m     \u001b[1;32mif\u001b[0m \u001b[0mx\u001b[0m\u001b[1;33m==\u001b[0m\u001b[1;34m'apple'\u001b[0m\u001b[1;33m:\u001b[0m\u001b[1;33m\u001b[0m\u001b[1;33m\u001b[0m\u001b[0m\n\u001b[0;32m      4\u001b[0m         \u001b[0mx\u001b[0m \u001b[1;33m=\u001b[0m\u001b[1;34m'orange'\u001b[0m\u001b[1;33m\u001b[0m\u001b[1;33m\u001b[0m\u001b[0m\n\u001b[1;32m----> 5\u001b[1;33m         \u001b[0mprint\u001b[0m\u001b[1;33m(\u001b[0m\u001b[0my\u001b[0m\u001b[1;33m)\u001b[0m\u001b[1;33m\u001b[0m\u001b[1;33m\u001b[0m\u001b[0m\n\u001b[0m",
      "\u001b[1;31mNameError\u001b[0m: name 'y' is not defined"
     ]
    }
   ],
   "source": [
    "xyz()"
   ]
  },
  {
   "cell_type": "code",
   "execution_count": null,
   "metadata": {},
   "outputs": [],
   "source": [
    "def xyz():\n",
    "    y ='orange'\n",
    "    x='apple'\n",
    "    if x=='apple':\n",
    "        print(y)"
   ]
  },
  {
   "cell_type": "code",
   "execution_count": null,
   "metadata": {},
   "outputs": [],
   "source": [
    "xyz()"
   ]
  },
  {
   "cell_type": "markdown",
   "metadata": {},
   "source": [
    "# use of Functions as a veriable"
   ]
  },
  {
   "cell_type": "code",
   "execution_count": 22,
   "metadata": {},
   "outputs": [],
   "source": [
    "def commission(sales_value):\n",
    "    if sales_value>=10000:\n",
    "        percent=5\n",
    "    elif sales_value>=50000:\n",
    "        percent =10\n",
    "    elif sales_value>=100000:\n",
    "        percent =20\n",
    "    else:\n",
    "        percent=0\n",
    "    commission= sales_value/100*percent\n",
    "    return commission\n",
    "    \n",
    "def grossCalc(basic, sales_value):\n",
    "    grossPay = basic + commission(sales_value)\n",
    "    return grossPay\n"
   ]
  },
  {
   "cell_type": "code",
   "execution_count": 24,
   "metadata": {},
   "outputs": [
    {
     "name": "stdout",
     "output_type": "stream",
     "text": [
      "Yur basic salary is 275000.0\n"
     ]
    }
   ],
   "source": [
    "pay=grossCalc(25000, 5000000)\n",
    "print(f\"Yur basic salary is {pay}\")"
   ]
  },
  {
   "cell_type": "markdown",
   "metadata": {},
   "source": [
    "# while loop"
   ]
  },
  {
   "cell_type": "code",
   "execution_count": 26,
   "metadata": {},
   "outputs": [
    {
     "name": "stdout",
     "output_type": "stream",
     "text": [
      "0 i am for loop\n",
      "1 i am for loop\n",
      "2 i am for loop\n",
      "3 i am for loop\n",
      "4 i am for loop\n",
      "5 i am for loop\n",
      "6 i am for loop\n",
      "7 i am for loop\n",
      "8 i am for loop\n",
      "9 i am for loop\n"
     ]
    }
   ],
   "source": [
    "a=0\n",
    "while a<10:\n",
    "    print(a,\"i am for loop\")\n",
    "    a+=1"
   ]
  },
  {
   "cell_type": "code",
   "execution_count": null,
   "metadata": {},
   "outputs": [],
   "source": []
  }
 ],
 "metadata": {
  "kernelspec": {
   "display_name": "Python 3",
   "language": "python",
   "name": "python3"
  }
 },
 "nbformat": 4,
 "nbformat_minor": 2
}
