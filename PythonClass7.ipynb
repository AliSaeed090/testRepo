{
 "cells": [
  {
   "cell_type": "markdown",
   "metadata": {},
   "source": [
    "# Object Oriented Programming"
   ]
  },
  {
   "cell_type": "markdown",
   "metadata": {},
   "source": [
    "# Classes"
   ]
  },
  {
   "cell_type": "code",
   "execution_count": 21,
   "metadata": {},
   "outputs": [],
   "source": [
    " class Patient ():\n",
    "        def __init__(self,name,gender,age,disease):\n",
    "            #attributes >> Variables\n",
    "            self.patientName=name\n",
    "            self.patientGender=gender\n",
    "            self.patientAge=age\n",
    "            self.patientDisease=disease\n",
    "            #Behaviours/Functionality  >> Functions\n",
    "        def takes_med(self):\n",
    "            print(f\"{self.patientName} is taking mediciene\")\n",
    "        def deposit_fee(self):\n",
    "            print(f\"{self.patientName} is depositing fee\")\n",
    "        def takes_rest(self):\n",
    "            print(f\"{self.patientName} is Taking Rest\")\n",
    "        def can_die(self):\n",
    "            print(f\"{self.patientName} is dead\")\n",
    "            "
   ]
  },
  {
   "cell_type": "code",
   "execution_count": 22,
   "metadata": {},
   "outputs": [],
   "source": [
    "p123=Patient(\"gabbar\", \"Male\", 50, \"sugar\")"
   ]
  },
  {
   "cell_type": "code",
   "execution_count": 23,
   "metadata": {},
   "outputs": [],
   "source": [
    "p124=Patient(\"Sambha\", \"Male\", 40, \"Malaria\")"
   ]
  },
  {
   "cell_type": "code",
   "execution_count": 24,
   "metadata": {},
   "outputs": [
    {
     "data": {
      "text/plain": [
       "'gabbar'"
      ]
     },
     "execution_count": 24,
     "metadata": {},
     "output_type": "execute_result"
    }
   ],
   "source": [
    "p123.patientName"
   ]
  },
  {
   "cell_type": "code",
   "execution_count": 25,
   "metadata": {},
   "outputs": [
    {
     "data": {
      "text/plain": [
       "50"
      ]
     },
     "execution_count": 25,
     "metadata": {},
     "output_type": "execute_result"
    }
   ],
   "source": [
    "p123.patientAge"
   ]
  },
  {
   "cell_type": "code",
   "execution_count": 26,
   "metadata": {},
   "outputs": [
    {
     "name": "stdout",
     "output_type": "stream",
     "text": [
      "gabbar is taking mediciene\n"
     ]
    }
   ],
   "source": [
    "p123.takes_med()"
   ]
  },
  {
   "cell_type": "code",
   "execution_count": 37,
   "metadata": {},
   "outputs": [],
   "source": [
    "class Student():\n",
    "    def __init__(self,name,age, gender,subject):\n",
    "        self.StudentName=name\n",
    "        self.studentAge=age\n",
    "        self.studentGender=gender\n",
    "        self.studentSubject=subject\n",
    "    def takes_Class(self):\n",
    "            print(f\"{self.StudentName} is taking Class\") \n",
    "    def Write_Notes(self):\n",
    "            print(f\"{self.StudentName} is Writing Notes\") \n",
    "    def Talkin(self):\n",
    "            print(f\"{self.StudentName} is Talking in Class\") \n",
    "    def giving_test(self):\n",
    "            print(f\"{self.StudentName} is giving test\") "
   ]
  },
  {
   "cell_type": "code",
   "execution_count": 38,
   "metadata": {},
   "outputs": [],
   "source": [
    "Student123 =Student(\"gabbar\", 50, \"Male\", \"Mathematics\")"
   ]
  },
  {
   "cell_type": "code",
   "execution_count": 39,
   "metadata": {},
   "outputs": [
    {
     "name": "stdout",
     "output_type": "stream",
     "text": [
      "gabbar is taking Class\n"
     ]
    }
   ],
   "source": [
    "Student123.takes_Class()"
   ]
  },
  {
   "cell_type": "markdown",
   "metadata": {},
   "source": [
    "# Another Example"
   ]
  },
  {
   "cell_type": "code",
   "execution_count": 54,
   "metadata": {},
   "outputs": [],
   "source": [
    "class Car():\n",
    "    def __init__(self,make,model,year):\n",
    "        self.make=make\n",
    "        self.model=model\n",
    "        self.year=year\n",
    "    def description(self):\n",
    "        full_name=f\"The name of car is {self.make} {self.model} {self.yaer}\"\n",
    "        return full_name\n",
    "    "
   ]
  },
  {
   "cell_type": "code",
   "execution_count": 55,
   "metadata": {},
   "outputs": [],
   "source": [
    "abccar=Car(\"Corolla\", \"XLI\", 2018)"
   ]
  },
  {
   "cell_type": "code",
   "execution_count": null,
   "metadata": {},
   "outputs": [],
   "source": []
  },
  {
   "cell_type": "code",
   "execution_count": null,
   "metadata": {},
   "outputs": [],
   "source": []
  }
 ],
 "metadata": {
  "kernelspec": {
   "display_name": "Python 3",
   "language": "python",
   "name": "python3"
  },
  "language_info": {
   "codemirror_mode": {
    "name": "ipython",
    "version": 3
   },
   "file_extension": ".py",
   "mimetype": "text/x-python",
   "name": "python",
   "nbconvert_exporter": "python",
   "pygments_lexer": "ipython3",
   "version": "3.7.3"
  }
 },
 "nbformat": 4,
 "nbformat_minor": 2
}
